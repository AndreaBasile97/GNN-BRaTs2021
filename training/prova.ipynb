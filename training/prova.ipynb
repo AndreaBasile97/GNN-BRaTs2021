{
 "cells": [
  {
   "cell_type": "code",
   "execution_count": 2,
   "metadata": {},
   "outputs": [],
   "source": [
    "import pickle\n",
    "\n",
    "# Get the file path from the user\n",
    "file_path = \"00088_feat_mask.pickle\"\n",
    "\n",
    "\n",
    "# Open the pickle file in read binary mode\n",
    "with open(file_path, 'rb') as file:\n",
    "    # Load the pickled object from the file\n",
    "    data = pickle.load(file)"
   ]
  },
  {
   "cell_type": "code",
   "execution_count": 4,
   "metadata": {},
   "outputs": [
    {
     "name": "stdout",
     "output_type": "stream",
     "text": [
      "dict_keys([1, 2, 3, 4])\n"
     ]
    }
   ],
   "source": [
    "print(data.keys())"
   ]
  },
  {
   "cell_type": "code",
   "execution_count": 21,
   "metadata": {},
   "outputs": [
    {
     "name": "stdout",
     "output_type": "stream",
     "text": [
      "{1: [tensor([1., 1., 1., 1., 1., 1., 1., 1., 1., 1., 1., 1., 1., 1., 1., 1., 1., 1.,\n",
      "        1., 1.]), tensor([2., 2., 2., 2., 2., 2., 2., 2., 2., 2., 2., 2., 2., 2., 2., 2., 2., 2.,\n",
      "        2., 2.])], 2: [tensor([2., 2., 2., 2., 2., 2., 2., 2., 2., 2., 2., 2., 2., 2., 2., 2., 2., 2.,\n",
      "        2., 2.]), tensor([4., 4., 4., 4., 4., 4., 4., 4., 4., 4., 4., 4., 4., 4., 4., 4., 4., 4.,\n",
      "        4., 4.])], 3: [tensor([3., 3., 3., 3., 3., 3., 3., 3., 3., 3., 3., 3., 3., 3., 3., 3., 3., 3.,\n",
      "        3., 3.]), tensor([6., 6., 6., 6., 6., 6., 6., 6., 6., 6., 6., 6., 6., 6., 6., 6., 6., 6.,\n",
      "        6., 6.])], 4: [tensor([4., 4., 4., 4., 4., 4., 4., 4., 4., 4., 4., 4., 4., 4., 4., 4., 4., 4.,\n",
      "        4., 4.]), tensor([8., 8., 8., 8., 8., 8., 8., 8., 8., 8., 8., 8., 8., 8., 8., 8., 8., 8.,\n",
      "        8., 8.])]}\n"
     ]
    }
   ],
   "source": [
    "# import torch\n",
    "# # Crea un dizionario vuoto\n",
    "# data1 = {}\n",
    "\n",
    "# # Definisci le chiavi del dizionario\n",
    "# keys = [1, 2, 3, 4]\n",
    "\n",
    "# # Aggiungi i valori per ciascuna chiave\n",
    "# for key in keys:\n",
    "#     # Crea i tensori con valori in base alla chiave\n",
    "#     tensor1 = torch.ones(20) * key\n",
    "#     tensor2 = torch.ones(20) * key * 2\n",
    "    \n",
    "#     # Aggiungi i tensori alla lista dei valori per la chiave\n",
    "#     data1[key] = [tensor1, tensor2]\n",
    "\n",
    "# # Stampa il dizionario\n",
    "# print(data1)"
   ]
  },
  {
   "cell_type": "code",
   "execution_count": 15,
   "metadata": {},
   "outputs": [],
   "source": [
    "import numpy as np\n",
    "\n",
    "def compute_mean(data):\n",
    "    mean_data = {}\n",
    "    for key, value in data.items():\n",
    "        # Check the shapes of the tensors\n",
    "        shapes = [tensor.shape[0] for tensor in value]\n",
    "        max_shape = max(shapes)\n",
    "        \n",
    "        # Pad tensors to the same length if necessary\n",
    "        padded_tensors = [np.pad(tensor, (0, max_shape - tensor.shape[0])) for tensor in value]\n",
    "        \n",
    "        # Convert the padded tensors to a numpy array\n",
    "        value_array = np.array(padded_tensors)\n",
    "        \n",
    "        # Compute the mean vertically along axis 0\n",
    "        mean_vector = np.mean(value_array, axis=0)\n",
    "        \n",
    "        # Store the mean vector in the new dictionary\n",
    "        mean_data[key] = mean_vector\n",
    "        \n",
    "    return mean_data"
   ]
  },
  {
   "cell_type": "code",
   "execution_count": 22,
   "metadata": {},
   "outputs": [
    {
     "data": {
      "text/plain": [
       "{1: array([1.5, 1.5, 1.5, 1.5, 1.5, 1.5, 1.5, 1.5, 1.5, 1.5, 1.5, 1.5, 1.5,\n",
       "        1.5, 1.5, 1.5, 1.5, 1.5, 1.5, 1.5], dtype=float32),\n",
       " 2: array([3., 3., 3., 3., 3., 3., 3., 3., 3., 3., 3., 3., 3., 3., 3., 3., 3.,\n",
       "        3., 3., 3.], dtype=float32),\n",
       " 3: array([4.5, 4.5, 4.5, 4.5, 4.5, 4.5, 4.5, 4.5, 4.5, 4.5, 4.5, 4.5, 4.5,\n",
       "        4.5, 4.5, 4.5, 4.5, 4.5, 4.5, 4.5], dtype=float32),\n",
       " 4: array([6., 6., 6., 6., 6., 6., 6., 6., 6., 6., 6., 6., 6., 6., 6., 6., 6.,\n",
       "        6., 6., 6.], dtype=float32)}"
      ]
     },
     "execution_count": 22,
     "metadata": {},
     "output_type": "execute_result"
    }
   ],
   "source": [
    "compute_mean(data1)"
   ]
  },
  {
   "cell_type": "code",
   "execution_count": 17,
   "metadata": {},
   "outputs": [
    {
     "name": "stdout",
     "output_type": "stream",
     "text": [
      "Media delle medie:\n",
      "{1: array([0.2724341 , 0.27116165, 0.26949614, 0.28128383, 0.27412617,\n",
      "       0.268252  , 0.27022743, 0.27231294, 0.27105322, 0.27303037,\n",
      "       0.27127013, 0.27099717, 0.28305322, 0.27778277, 0.27587137,\n",
      "       0.2721466 , 0.27088886, 0.2746816 , 0.27092633, 0.27327603],\n",
      "      dtype=float32), 2: array([0.32025006, 0.32983252, 0.40365642, 0.3057989 , 0.3301591 ,\n",
      "       0.2822683 , 0.29545608, 0.28270447, 0.32079995, 0.32783782,\n",
      "       0.28099287, 0.27678084, 0.33878124, 0.36857915, 0.35380647,\n",
      "       0.2807719 , 0.2830918 , 0.29639196, 0.28509694, 0.28085652],\n",
      "      dtype=float32), 3: array([0.28833342, 0.27638113, 0.2721876 , 0.28286123, 0.27920687,\n",
      "       0.28345266, 0.27468672, 0.2720316 , 0.27586165, 0.277129  ,\n",
      "       0.28400043, 0.27697867, 0.2779175 , 0.2794133 , 0.27700505,\n",
      "       0.2838576 , 0.28522766, 0.2817365 , 0.28133956, 0.28132632],\n",
      "      dtype=float32), 4: array([0.33312836, 0.3308145 , 0.32891694, 0.3234693 , 0.36576146,\n",
      "       0.3268348 , 0.32326347, 0.34266973, 0.3869671 , 0.42045853,\n",
      "       0.30948362, 0.37148172, 0.49554813, 0.5207321 , 0.39333096,\n",
      "       0.30165407, 0.31371254, 0.35246655, 0.32396424, 0.33662468],\n",
      "      dtype=float32)}\n"
     ]
    }
   ],
   "source": [
    "lista = [data]\n",
    "\n",
    "# Calcola la media per ciascun elemento nella lista\n",
    "mean_list = []\n",
    "for data in lista:\n",
    "    mean_data = compute_mean(data)\n",
    "    mean_list.append(mean_data)\n",
    "\n",
    "# Calcola la media delle medie\n",
    "mean_of_means = {}\n",
    "for key in mean_list[0].keys():\n",
    "    mean_vectors = [data[key] for data in mean_list]\n",
    "    mean_of_means[key] = np.mean(mean_vectors, axis=0)\n",
    "\n",
    "# Stampa la media delle medie\n",
    "print(\"Media delle medie:\")\n",
    "print(mean_of_means)"
   ]
  },
  {
   "cell_type": "code",
   "execution_count": 26,
   "metadata": {},
   "outputs": [
    {
     "name": "stdout",
     "output_type": "stream",
     "text": [
      "['00105', '00137', '00149', '00171', '00253', '00286', '00309', '00329', '00364', '00366', '00382', '00386', '00493', '00523', '00554', '00583', '00630', '00631', '00651', '00728', '00733', '00803', '00806', '01037', '01066', '01078', '01082', '01201', '01245', '01300', '01340', '01386', '01430', '01463', '01480', '01549', '01625']\n"
     ]
    }
   ],
   "source": [
    "import os\n",
    "import re\n",
    "\n",
    "path = \"../explanations/\"\n",
    "\n",
    "# Get all folder names in the path\n",
    "folder_names = next(os.walk(path))[1]\n",
    "\n",
    "numbers = []\n",
    "\n",
    "# Extract numbers from folder names\n",
    "for folder_name in folder_names:\n",
    "    match = re.search(r'\\d+', folder_name)  # Use regular expression to find the number\n",
    "    if match:\n",
    "        number = match.group()  # Convert the matched string to an integer\n",
    "        numbers.append(number)\n",
    "\n",
    "print(numbers)"
   ]
  }
 ],
 "metadata": {
  "kernelspec": {
   "display_name": ".venv",
   "language": "python",
   "name": "python3"
  },
  "language_info": {
   "codemirror_mode": {
    "name": "ipython",
    "version": 3
   },
   "file_extension": ".py",
   "mimetype": "text/x-python",
   "name": "python",
   "nbconvert_exporter": "python",
   "pygments_lexer": "ipython3",
   "version": "3.10.11"
  },
  "orig_nbformat": 4
 },
 "nbformat": 4,
 "nbformat_minor": 2
}
